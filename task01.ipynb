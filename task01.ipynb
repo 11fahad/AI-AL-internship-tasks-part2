{
 "cells": [
  {
   "cell_type": "code",
   "execution_count": null,
   "id": "8b5ac380-1c45-47ad-80fe-d3290f864b39",
   "metadata": {},
   "outputs": [],
   "source": []
  },
  {
   "cell_type": "code",
   "execution_count": 4,
   "id": "25647c26-8427-4d21-9b5e-630a25126421",
   "metadata": {},
   "outputs": [
    {
     "name": "stdout",
     "output_type": "stream",
     "text": [
      "✅ Jupyter is running code\n"
     ]
    }
   ],
   "source": [
    "print(\"✅ Jupyter is running code\")\n"
   ]
  },
  {
   "cell_type": "code",
   "execution_count": 2,
   "id": "cbf64492-377f-444f-9153-8973285577be",
   "metadata": {},
   "outputs": [
    {
     "name": "stdout",
     "output_type": "stream",
     "text": [
      "✅ scikit-learn version: 1.6.1\n"
     ]
    }
   ],
   "source": [
    "import sklearn\n",
    "print(\"✅ scikit-learn version:\", sklearn.__version__)\n"
   ]
  },
  {
   "cell_type": "code",
   "execution_count": 3,
   "id": "69a2ce5e-9a19-4840-a6ac-fd791a162309",
   "metadata": {},
   "outputs": [
    {
     "name": "stdout",
     "output_type": "stream",
     "text": [
      "✅ Test Accuracy: 1.0\n"
     ]
    }
   ],
   "source": [
    "from sklearn.datasets import load_iris\n",
    "from sklearn.linear_model import LogisticRegression\n",
    "from sklearn.model_selection import train_test_split\n",
    "\n",
    "X, y = load_iris(return_X_y=True)\n",
    "X_train, X_test, y_train, y_test = train_test_split(X, y, test_size=0.2, random_state=42)\n",
    "\n",
    "clf = LogisticRegression(max_iter=200).fit(X_train, y_train)\n",
    "print(\"✅ Test Accuracy:\", clf.score(X_test, y_test))\n"
   ]
  },
  {
   "cell_type": "code",
   "execution_count": 5,
   "id": "9fff66b6-0d17-4409-b340-3f72b603c922",
   "metadata": {},
   "outputs": [
    {
     "name": "stdout",
     "output_type": "stream",
     "text": [
      "Headline: NASA launches new satellite\n",
      " Predicted Category: politics\n",
      "\n",
      "Headline: Team wins the world cup\n",
      " Predicted Category: sports\n",
      "\n",
      "Headline: Stock prices fall in market crash\n",
      " Predicted Category: business\n",
      "\n",
      "Headline: Prime minister announces new law\n",
      " Predicted Category: politics\n",
      "\n"
     ]
    }
   ],
   "source": [
    "\n",
    "train_texts = [\n",
    "    \"Stocks rally as market shows growth\",          # Business\n",
    "    \"Company profits increase in Q4 earnings\",      # Business\n",
    "    \"Football team wins championship final\",       # Sports\n",
    "    \"Olympic games bring record attendance\",        # Sports\n",
    "    \"New discovery in space telescope images\",      # Science\n",
    "    \"Scientists develop cure for rare disease\",     # Science\n",
    "    \"Government passes new education reform\",       # Politics\n",
    "    \"President gives speech at summit\",            # Politics\n",
    "]\n",
    "\n",
    "train_labels = [\n",
    "    \"business\", \"business\",\n",
    "    \"sports\", \"sports\",\n",
    "    \"science\", \"science\",\n",
    "    \"politics\", \"politics\"\n",
    "]\n",
    "\n",
    "# -----------------------\n",
    "# 2. Preprocess (Bag-of-Words)\n",
    "# -----------------------\n",
    "def tokenize(text):\n",
    "    return text.lower().split()\n",
    "\n",
    "vocab = set()\n",
    "for text in train_texts:\n",
    "    vocab.update(tokenize(text))\n",
    "vocab = sorted(vocab)\n",
    "word2idx = {w:i for i,w in enumerate(vocab)}\n",
    "\n",
    "def vectorize(text):\n",
    "    vec = [0]*len(vocab)\n",
    "    for w in tokenize(text):\n",
    "        if w in word2idx:\n",
    "            vec[word2idx[w]] += 1\n",
    "    return vec\n",
    "\n",
    "X = [vectorize(t) for t in train_texts]\n",
    "y = train_labels\n",
    "classes = sorted(set(y))\n",
    "\n",
    "# -----------------------\n",
    "# 3. Train a Simple Model (Naive Bayes-like)\n",
    "# -----------------------\n",
    "from collections import defaultdict\n",
    "import math\n",
    "\n",
    "# Count words per class\n",
    "word_counts = {c:[0]*len(vocab) for c in classes}\n",
    "class_counts = defaultdict(int)\n",
    "\n",
    "for vec,label in zip(X,y):\n",
    "    class_counts[label] += 1\n",
    "    for i,val in enumerate(vec):\n",
    "        word_counts[label][i] += val\n",
    "\n",
    "# Convert counts to log probabilities\n",
    "class_priors = {c: math.log(class_counts[c]/len(y)) for c in classes}\n",
    "word_log_probs = {}\n",
    "\n",
    "for c in classes:\n",
    "    total = sum(word_counts[c]) + len(vocab)  # Laplace smoothing\n",
    "    word_log_probs[c] = [math.log((count+1)/total) for count in word_counts[c]]\n",
    "\n",
    "# -----------------------\n",
    "# 4. Prediction Function\n",
    "# -----------------------\n",
    "def predict(text):\n",
    "    vec = vectorize(text)\n",
    "    scores = {}\n",
    "    for c in classes:\n",
    "        score = class_priors[c]\n",
    "        for i,val in enumerate(vec):\n",
    "            if val>0:\n",
    "                score += val * word_log_probs[c][i]\n",
    "        scores[c] = score\n",
    "    return max(scores, key=scores.get)\n",
    "\n",
    "# -----------------------\n",
    "# 5. Test Predictions\n",
    "# -----------------------\n",
    "test_texts = [\n",
    "    \"NASA launches new satellite\",\n",
    "    \"Team wins the world cup\",\n",
    "    \"Stock prices fall in market crash\",\n",
    "    \"Prime minister announces new law\"\n",
    "]\n",
    "\n",
    "for t in test_texts:\n",
    "    print(f\"Headline: {t}\\n Predicted Category: {predict(t)}\\n\")\n"
   ]
  },
  {
   "cell_type": "code",
   "execution_count": null,
   "id": "66944d20-e060-48f6-a678-e8122de2afb5",
   "metadata": {},
   "outputs": [],
   "source": []
  }
 ],
 "metadata": {
  "kernelspec": {
   "display_name": "Python [conda env:base] *",
   "language": "python",
   "name": "conda-base-py"
  },
  "language_info": {
   "codemirror_mode": {
    "name": "ipython",
    "version": 3
   },
   "file_extension": ".py",
   "mimetype": "text/x-python",
   "name": "python",
   "nbconvert_exporter": "python",
   "pygments_lexer": "ipython3",
   "version": "3.13.5"
  }
 },
 "nbformat": 4,
 "nbformat_minor": 5
}
