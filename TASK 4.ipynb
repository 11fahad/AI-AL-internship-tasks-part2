{
 "cells": [
  {
   "cell_type": "code",
   "execution_count": 2,
   "id": "284519f6-b76c-4439-92e5-84533ea949c1",
   "metadata": {},
   "outputs": [
    {
     "name": "stdout",
     "output_type": "stream",
     "text": [
      "🤖 DevHubBot is ready! (type 'quit' to stop)\n",
      "\n"
     ]
    },
    {
     "name": "stdin",
     "output_type": "stream",
     "text": [
      "You:  hello\n"
     ]
    },
    {
     "name": "stdout",
     "output_type": "stream",
     "text": [
      "Bot: Hi there! How can I help you today?\n",
      "📜 Context: [{'user': 'hello'}, {'bot': 'Hi there! How can I help you today?'}]\n"
     ]
    },
    {
     "name": "stdin",
     "output_type": "stream",
     "text": [
      "You:  quit\n"
     ]
    },
    {
     "name": "stdout",
     "output_type": "stream",
     "text": [
      "Bot: Goodbye! 👋\n"
     ]
    }
   ],
   "source": [
    "# Task 4 - Context-Aware Chatbot (Pure Python)\n",
    "\n",
    "\n",
    "knowledge_base = {\n",
    "    \"hello\": \"Hi there! How can I help you today?\",\n",
    "    \"hi\": \"Hello! What’s up?\",\n",
    "    \"how are you\": \"I’m just a program, but I’m doing fine!\",\n",
    "    \"your name\": \"I’m DevHubBot, your internship assistant.\",\n",
    "    \"churn prediction\": \"Churn prediction is about finding customers likely to leave a service.\",\n",
    "    \"housing price\": \"Housing prices depend on features like bedrooms, bathrooms, and location.\",\n",
    "    \"news classifier\": \"A news classifier sorts headlines into categories like sports, business, or politics.\"\n",
    "}\n",
    "\n",
    "# -----------------------\n",
    "# 2. Context Memory\n",
    "# -----------------------\n",
    "conversation_history = []\n",
    "\n",
    "def chatbot_response(user_input):\n",
    "    # Save user input to history\n",
    "    conversation_history.append({\"user\": user_input})\n",
    "\n",
    "    # Normalize input (lowercase)\n",
    "    text = user_input.lower()\n",
    "\n",
    "    # Simple retrieval: check if input matches knowledge base keys\n",
    "    response = None\n",
    "    for key in knowledge_base:\n",
    "        if key in text:\n",
    "            response = knowledge_base[key]\n",
    "            break\n",
    "\n",
    "    # If no answer found\n",
    "    if not response:\n",
    "        response = \"I’m not sure about that, but can you tell me more?\"\n",
    "\n",
    "    # Add response to history\n",
    "    conversation_history.append({\"bot\": response})\n",
    "\n",
    "    return response\n",
    "\n",
    "\n",
    "print(\"🤖 DevHubBot is ready! (type 'quit' to stop)\\n\")\n",
    "\n",
    "while True:\n",
    "    user = input(\"You: \")\n",
    "    if user.lower() in [\"quit\", \"exit\", \"bye\"]:\n",
    "        print(\"Bot: Goodbye! 👋\")\n",
    "        break\n",
    "    reply = chatbot_response(user)\n",
    "    print(\"Bot:\", reply)\n",
    "\n",
    "    # Show last 2 turns (context memory)\n",
    "    print(\"📜 Context:\", conversation_history[-4:])\n"
   ]
  },
  {
   "cell_type": "code",
   "execution_count": null,
   "id": "b634e6d6-467e-4aa9-8b18-be27b819da05",
   "metadata": {},
   "outputs": [],
   "source": []
  }
 ],
 "metadata": {
  "kernelspec": {
   "display_name": "Python [conda env:base] *",
   "language": "python",
   "name": "conda-base-py"
  },
  "language_info": {
   "codemirror_mode": {
    "name": "ipython",
    "version": 3
   },
   "file_extension": ".py",
   "mimetype": "text/x-python",
   "name": "python",
   "nbconvert_exporter": "python",
   "pygments_lexer": "ipython3",
   "version": "3.13.5"
  }
 },
 "nbformat": 4,
 "nbformat_minor": 5
}
