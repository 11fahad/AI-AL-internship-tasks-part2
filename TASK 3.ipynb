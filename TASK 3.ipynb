{
 "cells": [
  {
   "cell_type": "code",
   "execution_count": 1,
   "id": "7dd4ef0a-95a9-44bd-82f0-91473a5e399c",
   "metadata": {},
   "outputs": [
    {
     "name": "stdout",
     "output_type": "stream",
     "text": [
      "PyTorch version: 2.7.1+cpu\n",
      "CUDA available: False\n"
     ]
    }
   ],
   "source": [
    "import torch\n",
    "print(\"PyTorch version:\", torch.__version__)\n",
    "print(\"CUDA available:\", torch.cuda.is_available())\n"
   ]
  },
  {
   "cell_type": "code",
   "execution_count": 3,
   "id": "29b8edd4-93ca-4dc8-ba18-bf5db8ae8b44",
   "metadata": {},
   "outputs": [
    {
     "name": "stdout",
     "output_type": "stream",
     "text": [
      "✅ Python works in Jupyter\n"
     ]
    }
   ],
   "source": [
    "print(\"✅ Python works in Jupyter\")\n"
   ]
  },
  {
   "cell_type": "code",
   "execution_count": 4,
   "id": "213cf0dc-a3e7-452b-9ff4-8f82b2c007ac",
   "metadata": {},
   "outputs": [
    {
     "name": "stdout",
     "output_type": "stream",
     "text": [
      "✅ pandas & numpy are available: 2.2.3 2.1.3\n"
     ]
    }
   ],
   "source": [
    "import pandas as pd\n",
    "import numpy as np\n",
    "print(\"✅ pandas & numpy are available:\", pd.__version__, np.__version__)\n"
   ]
  },
  {
   "cell_type": "code",
   "execution_count": 5,
   "id": "8a2acc52-cc58-4671-b3e6-d9d1569b899f",
   "metadata": {},
   "outputs": [
    {
     "name": "stdout",
     "output_type": "stream",
     "text": [
      "✅ scikit-learn version: 1.6.1\n"
     ]
    }
   ],
   "source": [
    "import sklearn\n",
    "print(\"✅ scikit-learn version:\", sklearn.__version__)\n"
   ]
  },
  {
   "cell_type": "code",
   "execution_count": 6,
   "id": "c5454730-b970-40ef-9c60-fd47ba732d7b",
   "metadata": {},
   "outputs": [
    {
     "name": "stdout",
     "output_type": "stream",
     "text": [
      "Learned weights: [0.08744244100349388, 0.3050560626028975, 0.1805479181801722, 146.44134964501472]\n",
      "✅ MAE: 8146.10\n",
      "✅ RMSE: 9401.68\n",
      "House [3, 2, 1500] -> Predicted Price: 219663\n",
      "House [5, 4, 3200] -> Predicted Price: 468615\n",
      "House [2, 1, 850] -> Predicted Price: 124476\n"
     ]
    }
   ],
   "source": [
    "# Task 3 - Housing Price Prediction (Pure Python, no external libraries)\n",
    "\n",
    "\n",
    "# 1. Sample Housing Dataset\n",
    "#\n",
    "# Features: [bedrooms, bathrooms, sqft_living]\n",
    "# Target: price\n",
    "data = [\n",
    "    [2, 1, 1000, 150000],\n",
    "    [3, 2, 1800, 250000],\n",
    "    [4, 3, 2200, 320000],\n",
    "    [2, 1, 900, 140000],\n",
    "    [5, 4, 3000, 450000],\n",
    "    [3, 2, 1600, 230000],\n",
    "    [4, 2, 2000, 310000],\n",
    "    [1, 1, 800, 120000],\n",
    "    [3, 2, 1700, 240000],\n",
    "    [5, 3, 2800, 400000],\n",
    "]\n",
    "\n",
    "X = [row[:-1] for row in data]  # features\n",
    "y = [row[-1] for row in data]   # target\n",
    "\n",
    "# -----------------------\n",
    "# 2. Train Simple Linear Regression (Normal Equation)\n",
    "# -----------------------\n",
    "# Add bias term (1) to each row\n",
    "X_bias = []\n",
    "for row in X:\n",
    "    X_bias.append([1] + row)  # add constant term for intercept\n",
    "\n",
    "# Matrix operations (implemented manually)\n",
    "def transpose(M):\n",
    "    return [list(row) for row in zip(*M)]\n",
    "\n",
    "def matmul(A, B):\n",
    "    result = [[0]*len(B[0]) for _ in range(len(A))]\n",
    "    for i in range(len(A)):\n",
    "        for j in range(len(B[0])):\n",
    "            for k in range(len(B)):\n",
    "                result[i][j] += A[i][k] * B[k][j]\n",
    "    return result\n",
    "\n",
    "def inverse_2x2(M):\n",
    "    det = M[0][0]*M[1][1] - M[0][1]*M[1][0]\n",
    "    return [[M[1][1]/det, -M[0][1]/det],\n",
    "            [-M[1][0]/det, M[0][0]/det]]\n",
    "\n",
    "# Convert y to column vector\n",
    "y_col = [[val] for val in y]\n",
    "\n",
    "XT = transpose(X_bias)\n",
    "XTX = matmul(XT, X_bias)\n",
    "\n",
    "\n",
    "def predict_row(row, weights):\n",
    "    return sum(w*x for w,x in zip(weights, [1]+row))\n",
    "\n",
    "def gradient_descent(X, y, lr=0.00000001, epochs=5000):\n",
    "    weights = [0]*(len(X[0])+1)  # bias + features\n",
    "    n = len(y)\n",
    "    for _ in range(epochs):\n",
    "        grad = [0]*len(weights)\n",
    "        for xi, yi in zip(X, y):\n",
    "            pred = predict_row(xi, weights)\n",
    "            error = pred - yi\n",
    "            for j,val in enumerate([1]+xi):\n",
    "                grad[j] += error * val\n",
    "        # update\n",
    "        for j in range(len(weights)):\n",
    "            weights[j] -= lr * grad[j] / n\n",
    "    return weights\n",
    "\n",
    "weights = gradient_descent(X, y)\n",
    "print(\"Learned weights:\", weights)\n",
    "\n",
    "\n",
    "def mae_rmse(X, y, weights):\n",
    "    errors = []\n",
    "    for xi, yi in zip(X, y):\n",
    "        pred = predict_row(xi, weights)\n",
    "        errors.append(pred - yi)\n",
    "    mae = sum(abs(e) for e in errors)/len(errors)\n",
    "    rmse = (sum(e**2 for e in errors)/len(errors))**0.5\n",
    "    return mae, rmse\n",
    "\n",
    "mae, rmse = mae_rmse(X, y, weights)\n",
    "print(f\"✅ MAE: {mae:.2f}\")\n",
    "print(f\"✅ RMSE: {rmse:.2f}\")\n",
    "\n",
    "# -----------------------\n",
    "# 5. Test Predictions\n",
    "# -----------------------\n",
    "test_houses = [\n",
    "    [3, 2, 1500],   # medium house\n",
    "    [5, 4, 3200],   # big house\n",
    "    [2, 1, 850],    # small house\n",
    "]\n",
    "\n",
    "for house in test_houses:\n",
    "    price = predict_row(house, weights)\n",
    "    print(f\"House {house} -> Predicted Price: {price:.0f}\")\n"
   ]
  },
  {
   "cell_type": "code",
   "execution_count": null,
   "id": "5706398f-f879-4bce-a56c-c1a6622a5eb8",
   "metadata": {},
   "outputs": [],
   "source": []
  }
 ],
 "metadata": {
  "kernelspec": {
   "display_name": "Python [conda env:base] *",
   "language": "python",
   "name": "conda-base-py"
  },
  "language_info": {
   "codemirror_mode": {
    "name": "ipython",
    "version": 3
   },
   "file_extension": ".py",
   "mimetype": "text/x-python",
   "name": "python",
   "nbconvert_exporter": "python",
   "pygments_lexer": "ipython3",
   "version": "3.13.5"
  }
 },
 "nbformat": 4,
 "nbformat_minor": 5
}
